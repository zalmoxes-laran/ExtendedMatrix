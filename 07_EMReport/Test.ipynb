{
 "cells": [
  {
   "cell_type": "code",
   "execution_count": 1,
   "id": "014c0052-468e-4aca-93f7-85e578370a17",
   "metadata": {},
   "outputs": [
    {
     "data": {
      "application/vnd.jupyter.widget-view+json": {
       "model_id": "f6f675e0d33249f5b04abf2a80369659",
       "version_major": 2,
       "version_minor": 0
      },
      "text/plain": [
       "GridspecLayout(children=(Output(layout=Layout(grid_area='widget001')), Output(layout=Layout(grid_area='widget0…"
      ]
     },
     "metadata": {},
     "output_type": "display_data"
    }
   ],
   "source": [
    "import ipywidgets as widgets\n",
    "from IPython.display import display\n",
    "import matplotlib.pyplot as plt\n",
    "import pandas as pd\n",
    "import folium\n",
    "\n",
    "# Preparazione dei dati e delle funzioni\n",
    "data = {\"nome\": [\"Prodotto A\", \"Prodotto B\", \"Prodotto C\"], \"quantità\": [100, 150, 50]}\n",
    "df = pd.DataFrame(data)\n",
    "\n",
    "def plot_pie_chart(df):\n",
    "    plt.figure(figsize=(6, 6))\n",
    "    plt.pie(df[\"quantità\"], labels=df[\"nome\"], autopct='%1.1f%%', startangle=140)\n",
    "    plt.title('Distribuzione per Nome')\n",
    "    return plt\n",
    "\n",
    "# Creazione dei widget di output\n",
    "output_text = widgets.Output()\n",
    "output_pie_chart = widgets.Output()\n",
    "output_map = widgets.Output()\n",
    "output_iframe = widgets.Output()\n",
    "\n",
    "# Impostazione del contenuto per ogni widget di output\n",
    "with output_text:\n",
    "    print(\"File: sample_data.csv, Number of Rows: 3\")\n",
    "\n",
    "with output_pie_chart:\n",
    "    plot_pie_chart(df)\n",
    "    plt.show()\n",
    "\n",
    "with output_map:\n",
    "    m = folium.Map(location=[42.373724, 12.415521], zoom_start=12)\n",
    "    folium.Marker([42.373724, 12.415521]).add_to(m)\n",
    "    display(m)\n",
    "\n",
    "with output_iframe:\n",
    "    display(widgets.HTML(value=\"<iframe src='https://aton.ispc.cnr.it/a/emviq/?s=samples/montebelluna' width='100%' height='400'></iframe>\"))\n",
    "\n",
    "# Creazione del layout 2x2\n",
    "grid_layout = widgets.GridspecLayout(2, 2, height='800px')\n",
    "grid_layout[0, 0] = output_text\n",
    "grid_layout[0, 1] = output_pie_chart\n",
    "grid_layout[1, 0] = output_map\n",
    "grid_layout[1, 1] = output_iframe\n",
    "\n",
    "# Visualizzazione del layout\n",
    "display(grid_layout)\n"
   ]
  },
  {
   "cell_type": "code",
   "execution_count": null,
   "id": "0a07dfa4-f5cf-42a3-8f73-3ce46c7e1d5d",
   "metadata": {},
   "outputs": [],
   "source": []
  }
 ],
 "metadata": {
  "kernelspec": {
   "display_name": "Python 3 (ipykernel)",
   "language": "python",
   "name": "python3"
  },
  "language_info": {
   "codemirror_mode": {
    "name": "ipython",
    "version": 3
   },
   "file_extension": ".py",
   "mimetype": "text/x-python",
   "name": "python",
   "nbconvert_exporter": "python",
   "pygments_lexer": "ipython3",
   "version": "3.9.12"
  }
 },
 "nbformat": 4,
 "nbformat_minor": 5
}

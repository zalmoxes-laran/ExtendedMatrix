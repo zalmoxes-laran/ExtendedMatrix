{
 "cells": [
  {
   "cell_type": "code",
   "execution_count": 3,
   "id": "567c53d9-f7b9-466e-bdbc-018674a197ea",
   "metadata": {},
   "outputs": [],
   "source": [
    "import subprocess\n",
    "import sys\n",
    "\n",
    "def install_packages(packages):\n",
    "    \"\"\"\n",
    "    Installs the list of packages using pip.\n",
    "    \n",
    "    Parameters:\n",
    "    packages (list): A list of package names as strings.\n",
    "    \"\"\"\n",
    "    for package in packages:\n",
    "        subprocess.check_call([sys.executable, \"-m\", \"pip\", \"install\", package])\n",
    "\n",
    "# Esempio di utilizzo della funzione\n",
    "packages_to_install = ['pandas', 'matplotlib', 'folium']\n",
    "install_packages(packages_to_install)\n"
   ]
  },
  {
   "cell_type": "code",
   "execution_count": 4,
   "id": "0c56d888-b226-438a-b7f5-ac30df41270a",
   "metadata": {},
   "outputs": [
    {
     "ename": "NameError",
     "evalue": "name 'df' is not defined",
     "output_type": "error",
     "traceback": [
      "\u001b[1;31m---------------------------------------------------------------------------\u001b[0m",
      "\u001b[1;31mNameError\u001b[0m                                 Traceback (most recent call last)",
      "Input \u001b[1;32mIn [4]\u001b[0m, in \u001b[0;36m<cell line: 8>\u001b[1;34m()\u001b[0m\n\u001b[0;32m      6\u001b[0m \u001b[38;5;66;03m# Display file name and number of rows\u001b[39;00m\n\u001b[0;32m      7\u001b[0m file_name \u001b[38;5;241m=\u001b[39m \u001b[38;5;124m\"\u001b[39m\u001b[38;5;124msample_data.csv\u001b[39m\u001b[38;5;124m\"\u001b[39m\n\u001b[1;32m----> 8\u001b[0m num_rows \u001b[38;5;241m=\u001b[39m \u001b[38;5;28mlen\u001b[39m(\u001b[43mdf\u001b[49m)\n\u001b[0;32m      9\u001b[0m \u001b[38;5;28mprint\u001b[39m(\u001b[38;5;124mf\u001b[39m\u001b[38;5;124m\"\u001b[39m\u001b[38;5;124mFile: \u001b[39m\u001b[38;5;132;01m{\u001b[39;00mfile_name\u001b[38;5;132;01m}\u001b[39;00m\u001b[38;5;124m, Number of Rows: \u001b[39m\u001b[38;5;132;01m{\u001b[39;00mnum_rows\u001b[38;5;132;01m}\u001b[39;00m\u001b[38;5;124m\"\u001b[39m)\n\u001b[0;32m     11\u001b[0m \u001b[38;5;66;03m# Sample CSV data\u001b[39;00m\n",
      "\u001b[1;31mNameError\u001b[0m: name 'df' is not defined"
     ]
    }
   ],
   "source": [
    "import matplotlib.pyplot as plt\n",
    "import pandas as pd\n",
    "import folium\n",
    "from IPython.display import IFrame, display\n",
    "\n",
    "\n",
    "\n",
    "# Sample CSV data\n",
    "data = {\n",
    "    \"nome\": [\"Prodotto A\", \"Prodotto B\", \"Prodotto C\"],\n",
    "    \"quantità\": [100, 150, 50]\n",
    "}\n",
    "df = pd.DataFrame(data)\n",
    "\n",
    "# Display file name and number of rows\n",
    "file_name = \"sample_data.csv\"\n",
    "num_rows = len(df)\n",
    "print(f\"File: {file_name}, Number of Rows: {num_rows}\")\n",
    "\n",
    "# Create a Pie chart\n",
    "def plot_pie_chart(df):\n",
    "    plt.figure(figsize=(6, 6))\n",
    "    plt.pie(df[\"quantità\"], labels=df[\"nome\"], autopct='%1.1f%%', startangle=140)\n",
    "    plt.title('Distribuzione per Nome')\n",
    "    plt.show()"
   ]
  },
  {
   "cell_type": "code",
   "execution_count": null,
   "id": "fff28549-be19-448e-8237-70f74f1dbc1a",
   "metadata": {},
   "outputs": [],
   "source": [
    "# Plot the pie chart\n",
    "plot_pie_chart(df)\n",
    "\n",
    "# Create a map with a marker\n",
    "m = folium.Map(location=[42.373724, 12.415521], zoom_start=12)\n",
    "folium.Marker([42.373724, 12.415521]).add_to(m)\n",
    "\n",
    "# Display the map\n",
    "m"
   ]
  },
  {
   "cell_type": "code",
   "execution_count": null,
   "id": "bc7f2157-9d09-4e26-9d48-7e31daf77783",
   "metadata": {},
   "outputs": [],
   "source": [
    "# Display an iframe\n",
    "iframe_url = \"https://aton.ispc.cnr.it/a/emviq/?s=samples/montebelluna\"\n",
    "display(IFrame(iframe_url, width=700, height=500))"
   ]
  }
 ],
 "metadata": {
  "kernelspec": {
   "display_name": "Python 3 (ipykernel)",
   "language": "python",
   "name": "python3"
  },
  "language_info": {
   "codemirror_mode": {
    "name": "ipython",
    "version": 3
   },
   "file_extension": ".py",
   "mimetype": "text/x-python",
   "name": "python",
   "nbconvert_exporter": "python",
   "pygments_lexer": "ipython3",
   "version": "3.9.12"
  }
 },
 "nbformat": 4,
 "nbformat_minor": 5
}

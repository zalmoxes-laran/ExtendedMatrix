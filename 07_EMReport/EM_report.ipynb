{
 "cells": [
  {
   "cell_type": "code",
   "execution_count": 3,
   "id": "567c53d9-f7b9-466e-bdbc-018674a197ea",
   "metadata": {},
   "outputs": [],
   "source": [
    "import subprocess\n",
    "import sys\n",
    "\n",
    "def install_packages(packages):\n",
    "    \"\"\"\n",
    "    Installs the list of packages using pip.\n",
    "    \n",
    "    Parameters:\n",
    "    packages (list): A list of package names as strings.\n",
    "    \"\"\"\n",
    "    for package in packages:\n",
    "        subprocess.check_call([sys.executable, \"-m\", \"pip\", \"install\", package])\n",
    "\n",
    "# Esempio di utilizzo della funzione\n",
    "packages_to_install = ['pandas', 'matplotlib', 'folium']\n",
    "install_packages(packages_to_install)\n"
   ]
  },
  {
   "cell_type": "code",
   "execution_count": 5,
   "id": "0c56d888-b226-438a-b7f5-ac30df41270a",
   "metadata": {},
   "outputs": [
    {
     "name": "stdout",
     "output_type": "stream",
     "text": [
      "File: sample_data.csv, Number of Rows: 3\n"
     ]
    }
   ],
   "source": [
    "import matplotlib.pyplot as plt\n",
    "import pandas as pd\n",
    "import folium\n",
    "from IPython.display import IFrame, display\n",
    "\n",
    "\n",
    "\n",
    "# Sample CSV data\n",
    "data = {\n",
    "    \"nome\": [\"Prodotto A\", \"Prodotto B\", \"Prodotto C\"],\n",
    "    \"quantità\": [100, 150, 50]\n",
    "}\n",
    "df = pd.DataFrame(data)\n",
    "\n",
    "# Display file name and number of rows\n",
    "file_name = \"sample_data.csv\"\n",
    "num_rows = len(df)\n",
    "print(f\"File: {file_name}, Number of Rows: {num_rows}\")\n",
    "\n",
    "# Create a Pie chart\n",
    "def plot_pie_chart(df):\n",
    "    plt.figure(figsize=(6, 6))\n",
    "    plt.pie(df[\"quantità\"], labels=df[\"nome\"], autopct='%1.1f%%', startangle=140)\n",
    "    plt.title('Distribuzione per Nome')\n",
    "    plt.show()"
   ]
  },
  {
   "cell_type": "code",
   "execution_count": 6,
   "id": "fff28549-be19-448e-8237-70f74f1dbc1a",
   "metadata": {},
   "outputs": [
    {
     "data": {
      "image/png": "[encoded data removed]",
      "text/plain": [
       "<Figure size 432x432 with 1 Axes>"
      ]
     },
     "metadata": {},
     "output_type": "display_data"
    },
    {
     "data": {
      "text/html": [
       "<div style=\"width:100%;\"><div style=\"position:relative;width:100%;height:0;padding-bottom:60%;\"><span style=\"color:#565656\">Make this Notebook Trusted to load map: File -> Trust Notebook</span><iframe srcdoc=\"&lt;!DOCTYPE html&gt;\n",
       "&lt;html&gt;\n",
       "&lt;head&gt;\n",
       "    \n",
       "    &lt;meta http-equiv=&quot;content-type&quot; content=&quot;text/html; charset=UTF-8&quot; /&gt;\n",
       "    \n",
       "        &lt;script&gt;\n",
       "            L_NO_TOUCH = false;\n",
       "            L_DISABLE_3D = false;\n",
       "        &lt;/script&gt;\n",
       "    \n",
       "    &lt;style&gt;html, body {width: 100%;height: 100%;margin: 0;padding: 0;}&lt;/style&gt;\n",
       "    &lt;style&gt;#map {position:absolute;top:0;bottom:0;right:0;left:0;}&lt;/style&gt;\n",
       "    &lt;script src=&quot;https://cdn.jsdelivr.net/npm/leaflet@1.9.3/dist/leaflet.js&quot;&gt;&lt;/script&gt;\n",
       "    &lt;script src=&quot;https://code.jquery.com/jquery-3.7.1.min.js&quot;&gt;&lt;/script&gt;\n",
       "    &lt;script src=&quot;https://cdn.jsdelivr.net/npm/bootstrap@5.2.2/dist/js/bootstrap.bundle.min.js&quot;&gt;&lt;/script&gt;\n",
       "    &lt;script src=&quot;https://cdnjs.cloudflare.com/ajax/libs/Leaflet.awesome-markers/2.0.2/leaflet.awesome-markers.js&quot;&gt;&lt;/script&gt;\n",
       "    &lt;link rel=&quot;stylesheet&quot; href=&quot;https://cdn.jsdelivr.net/npm/leaflet@1.9.3/dist/leaflet.css&quot;/&gt;\n",
       "    &lt;link rel=&quot;stylesheet&quot; href=&quot;https://cdn.jsdelivr.net/npm/bootstrap@5.2.2/dist/css/bootstrap.min.css&quot;/&gt;\n",
       "    &lt;link rel=&quot;stylesheet&quot; href=&quot;https://netdna.bootstrapcdn.com/bootstrap/3.0.0/css/bootstrap.min.css&quot;/&gt;\n",
       "    &lt;link rel=&quot;stylesheet&quot; href=&quot;https://cdn.jsdelivr.net/npm/@fortawesome/fontawesome-free@6.2.0/css/all.min.css&quot;/&gt;\n",
       "    &lt;link rel=&quot;stylesheet&quot; href=&quot;https://cdnjs.cloudflare.com/ajax/libs/Leaflet.awesome-markers/2.0.2/leaflet.awesome-markers.css&quot;/&gt;\n",
       "    &lt;link rel=&quot;stylesheet&quot; href=&quot;https://cdn.jsdelivr.net/gh/python-visualization/folium/folium/templates/leaflet.awesome.rotate.min.css&quot;/&gt;\n",
       "    \n",
       "            &lt;meta name=&quot;viewport&quot; content=&quot;width=device-width,\n",
       "                initial-scale=1.0, maximum-scale=1.0, user-scalable=no&quot; /&gt;\n",
       "            &lt;style&gt;\n",
       "                #map_7732631afb70f1088a9690de4f44393d {\n",
       "                    position: relative;\n",
       "                    width: 100.0%;\n",
       "                    height: 100.0%;\n",
       "                    left: 0.0%;\n",
       "                    top: 0.0%;\n",
       "                }\n",
       "                .leaflet-container { font-size: 1rem; }\n",
       "            &lt;/style&gt;\n",
       "        \n",
       "&lt;/head&gt;\n",
       "&lt;body&gt;\n",
       "    \n",
       "    \n",
       "            &lt;div class=&quot;folium-map&quot; id=&quot;map_7732631afb70f1088a9690de4f44393d&quot; &gt;&lt;/div&gt;\n",
       "        \n",
       "&lt;/body&gt;\n",
       "&lt;script&gt;\n",
       "    \n",
       "    \n",
       "            var map_7732631afb70f1088a9690de4f44393d = L.map(\n",
       "                &quot;map_7732631afb70f1088a9690de4f44393d&quot;,\n",
       "                {\n",
       "                    center: [42.373724, 12.415521],\n",
       "                    crs: L.CRS.EPSG3857,\n",
       "                    zoom: 12,\n",
       "                    zoomControl: true,\n",
       "                    preferCanvas: false,\n",
       "                }\n",
       "            );\n",
       "\n",
       "            \n",
       "\n",
       "        \n",
       "    \n",
       "            var tile_layer_4498a81ead0bd76ff20a9bcd1bbe8487 = L.tileLayer(\n",
       "                &quot;https://{s}.tile.openstreetmap.org/{z}/{x}/{y}.png&quot;,\n",
       "                {&quot;attribution&quot;: &quot;Data by \\u0026copy; \\u003ca target=\\&quot;_blank\\&quot; href=\\&quot;http://openstreetmap.org\\&quot;\\u003eOpenStreetMap\\u003c/a\\u003e, under \\u003ca target=\\&quot;_blank\\&quot; href=\\&quot;http://www.openstreetmap.org/copyright\\&quot;\\u003eODbL\\u003c/a\\u003e.&quot;, &quot;detectRetina&quot;: false, &quot;maxNativeZoom&quot;: 18, &quot;maxZoom&quot;: 18, &quot;minZoom&quot;: 0, &quot;noWrap&quot;: false, &quot;opacity&quot;: 1, &quot;subdomains&quot;: &quot;abc&quot;, &quot;tms&quot;: false}\n",
       "            );\n",
       "        \n",
       "    \n",
       "                tile_layer_4498a81ead0bd76ff20a9bcd1bbe8487.addTo(map_7732631afb70f1088a9690de4f44393d);\n",
       "    \n",
       "            var marker_44f06483c1a9eb5014862577b7115c30 = L.marker(\n",
       "                [42.373724, 12.415521],\n",
       "                {}\n",
       "            ).addTo(map_7732631afb70f1088a9690de4f44393d);\n",
       "        \n",
       "&lt;/script&gt;\n",
       "&lt;/html&gt;\" style=\"position:absolute;width:100%;height:100%;left:0;top:0;border:none !important;\" allowfullscreen webkitallowfullscreen mozallowfullscreen></iframe></div></div>"
      ],
      "text/plain": [
       "<folium.folium.Map at 0x1a035af6ac0>"
      ]
     },
     "execution_count": 6,
     "metadata": {},
     "output_type": "execute_result"
    }
   ],
   "source": [
    "# Plot the pie chart\n",
    "plot_pie_chart(df)\n",
    "\n",
    "# Create a map with a marker\n",
    "m = folium.Map(location=[42.373724, 12.415521], zoom_start=12)\n",
    "folium.Marker([42.373724, 12.415521]).add_to(m)\n",
    "\n",
    "# Display the map\n",
    "m"
   ]
  },
  {
   "cell_type": "code",
   "execution_count": 7,
   "id": "bc7f2157-9d09-4e26-9d48-7e31daf77783",
   "metadata": {},
   "outputs": [
    {
     "data": {
      "text/html": [
       "\n",
       "        <iframe\n",
       "            width=\"700\"\n",
       "            height=\"500\"\n",
       "            src=\"https://aton.ispc.cnr.it/a/emviq/?s=samples/montebelluna\"\n",
       "            frameborder=\"0\"\n",
       "            allowfullscreen\n",
       "            \n",
       "        ></iframe>\n",
       "        "
      ],
      "text/plain": [
       "<IPython.lib.display.IFrame at 0x1a035c26cd0>"
      ]
     },
     "metadata": {},
     "output_type": "display_data"
    }
   ],
   "source": [
    "# Display an iframe\n",
    "iframe_url = \"https://aton.ispc.cnr.it/a/emviq/?s=samples/montebelluna\"\n",
    "display(IFrame(iframe_url, width=700, height=500))"
   ]
  },
  {
   "cell_type": "code",
   "execution_count": 8,
   "id": "1967de20-1e05-4be5-b512-d4c47840f2c4",
   "metadata": {},
   "outputs": [
    {
     "data": {
      "application/vnd.jupyter.widget-view+json": {
       "model_id": "b675384ea942433a9e7222e7a7d6d2e2",
       "version_major": 2,
       "version_minor": 0
      },
      "text/plain": [
       "Box(children=(Output(), Output()), layout=Layout(align_items='stretch', display='flex', flex_flow='row', width…"
      ]
     },
     "metadata": {},
     "output_type": "display_data"
    }
   ],
   "source": [
    "import ipywidgets as widgets\n",
    "from IPython.display import display\n",
    "\n",
    "# Creazione di widget di output\n",
    "output1 = widgets.Output()\n",
    "output2 = widgets.Output()\n",
    "\n",
    "# Impostazione del contenuto per ogni widget di output\n",
    "with output1:\n",
    "    print(\"Risultato del Primo Compito\")\n",
    "\n",
    "with output2:\n",
    "    print(\"Risultato del Secondo Compito\")\n",
    "\n",
    "# Creazione di un layout con due colonne\n",
    "box_layout = widgets.Layout(display='flex',\n",
    "                            flex_flow='row',\n",
    "                            align_items='stretch',\n",
    "                            width='100%')\n",
    "box = widgets.Box(children=[output1, output2], layout=box_layout)\n",
    "\n",
    "# Visualizzazione del layout\n",
    "display(box)\n"
   ]
  },
  {
   "cell_type": "code",
   "execution_count": null,
   "id": "0f0594fa-a83e-40b3-8ea1-d3b3c9bea673",
   "metadata": {},
   "outputs": [],
   "source": []
  }
 ],
 "metadata": {
  "kernelspec": {
   "display_name": "Python 3 (ipykernel)",
   "language": "python",
   "name": "python3"
  },
  "language_info": {
   "codemirror_mode": {
    "name": "ipython",
    "version": 3
   },
   "file_extension": ".py",
   "mimetype": "text/x-python",
   "name": "python",
   "nbconvert_exporter": "python",
   "pygments_lexer": "ipython3",
   "version": "3.9.12"
  }
 },
 "nbformat": 4,
 "nbformat_minor": 5
}
